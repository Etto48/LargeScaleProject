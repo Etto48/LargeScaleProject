{
 "cells": [
  {
   "cell_type": "code",
   "execution_count": 3,
   "metadata": {},
   "outputs": [],
   "source": [
    "import json\n",
    "import pandas as pd"
   ]
  },
  {
   "cell_type": "code",
   "execution_count": 4,
   "metadata": {},
   "outputs": [],
   "source": [
    "dataset = pd.read_csv(\"../games/video_games.csv\")\n",
    "dataset.rename(columns={\"platform\": \"platforms\"}, inplace=True)\n",
    "dict_data = {}\n",
    "for i in range(len(dataset)):\n",
    "    game = dataset.iloc[i]\n",
    "    name = game[\"name\"]\n",
    "    if dict_data.get(name) is None:\n",
    "        dict_data[name] = {}\n",
    "    \n",
    "    row = dict_data[name]\n",
    "    for field in dataset.columns:\n",
    "        if game[field] is None:\n",
    "            pass\n",
    "        if pd.isna(game[field]):\n",
    "            pass\n",
    "        elif game[field] == \"tbd\":\n",
    "            pass\n",
    "        else:\n",
    "            if field == \"platforms\":\n",
    "                if row.get(field) is None:\n",
    "                    row[field] = []\n",
    "                row[field].append(game[field])\n",
    "            else:\n",
    "                row[field] = game[field]\n",
    "                if type(row[field]) == str:\n",
    "                    row[field] = row[field].strip()\n",
    "    dict_data[name] = row\n",
    "    \n",
    "json_data = []\n",
    "for key in dict_data:\n",
    "    json_data.append(dict_data[key])\n",
    "\n",
    "with open(\"../games/video_games.json\", \"w\") as f:\n",
    "    json.dump(json_data, f, indent=4, allow_nan=False)\n",
    "        "
   ]
  },
  {
   "cell_type": "code",
   "execution_count": null,
   "metadata": {},
   "outputs": [],
   "source": []
  }
 ],
 "metadata": {
  "kernelspec": {
   "display_name": ".venv",
   "language": "python",
   "name": "python3"
  },
  "language_info": {
   "codemirror_mode": {
    "name": "ipython",
    "version": 3
   },
   "file_extension": ".py",
   "mimetype": "text/x-python",
   "name": "python",
   "nbconvert_exporter": "python",
   "pygments_lexer": "ipython3",
   "version": "3.12.0"
  }
 },
 "nbformat": 4,
 "nbformat_minor": 2
}
