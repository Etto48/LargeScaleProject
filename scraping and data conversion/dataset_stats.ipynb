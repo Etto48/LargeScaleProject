{
 "cells": [
  {
   "cell_type": "code",
   "execution_count": 10,
   "metadata": {},
   "outputs": [],
   "source": [
    "import json"
   ]
  },
  {
   "cell_type": "code",
   "execution_count": 11,
   "metadata": {},
   "outputs": [],
   "source": [
    "with open(\"../games/combined_games.json\", \"r\") as f:\n",
    "    games = json.load(f) "
   ]
  },
  {
   "cell_type": "code",
   "execution_count": 13,
   "metadata": {},
   "outputs": [
    {
     "name": "stdout",
     "output_type": "stream",
     "text": [
      "Total games: 69552\n",
      "Total reviewed games: 11761 (16.91%)\n",
      "Total reviews: 139287 (2.0 review per game)\n",
      "Average score: 7.01\n"
     ]
    }
   ],
   "source": [
    "reviewed_games = 0\n",
    "reviews = 0\n",
    "avg_score = 0\n",
    "for game in games:\n",
    "    n = len(game[\"reviews\"])\n",
    "    if n > 0:\n",
    "        reviewed_games += 1\n",
    "        reviews += n\n",
    "        score = game[\"user_review\"]\n",
    "        avg_score += score\n",
    "avg_score /= reviewed_games\n",
    "print(\"Total games: {}\".format(len(games)))\n",
    "print(\"Total reviewed games: {} ({}%)\".format(reviewed_games, round(reviewed_games/len(games)*100, 2)))\n",
    "print(\"Total reviews: {} ({} review per game)\".format(reviews, round(reviews/len(games), 2)))\n",
    "print(\"Average score: {}\".format(round(avg_score, 2)))"
   ]
  }
 ],
 "metadata": {
  "kernelspec": {
   "display_name": ".venv",
   "language": "python",
   "name": "python3"
  },
  "language_info": {
   "codemirror_mode": {
    "name": "ipython",
    "version": 3
   },
   "file_extension": ".py",
   "mimetype": "text/x-python",
   "name": "python",
   "nbconvert_exporter": "python",
   "pygments_lexer": "ipython3",
   "version": "3.12.0"
  }
 },
 "nbformat": 4,
 "nbformat_minor": 2
}
