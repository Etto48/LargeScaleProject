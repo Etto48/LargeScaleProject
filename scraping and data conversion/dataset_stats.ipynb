{
 "cells": [
  {
   "cell_type": "code",
   "execution_count": 1,
   "metadata": {},
   "outputs": [],
   "source": [
    "import json"
   ]
  },
  {
   "cell_type": "code",
   "execution_count": 2,
   "metadata": {},
   "outputs": [],
   "source": [
    "with open(\"../games/reviewed_games.json\", \"r\") as f:\n",
    "    games = json.load(f) "
   ]
  },
  {
   "cell_type": "code",
   "execution_count": 3,
   "metadata": {},
   "outputs": [
    {
     "name": "stdout",
     "output_type": "stream",
     "text": [
      "Total games: 69552\n",
      "Total reviewed games: 49122 (70.63%)\n",
      "Total reviews: 250982 (3.608551874856223 review per game, 5.109360368063189 review per reviewed game)\n",
      "Average score: 6.79 +/- 1.67\n",
      "Score probability: [0.007796913806441106, 0.00608688571312243, 0.01101339522006433, 0.02186393062171736, 0.05376409755303123, 0.12135092219372176, 0.23103700989373396, 0.28250071251170555, 0.17698790765848296, 0.05989169822075648, 0.027706526607222833]\n"
     ]
    }
   ],
   "source": [
    "reviewed_games = 0\n",
    "reviews = 0\n",
    "score_avg = 0\n",
    "score_std = 0\n",
    "probability = [0 for _ in range(11)]\n",
    "for game in games:\n",
    "    n = len(game[\"reviews\"])\n",
    "    if n > 0:\n",
    "        reviewed_games += 1\n",
    "        reviews += n\n",
    "        score = game[\"user_review\"]\n",
    "        score_avg += score\n",
    "        probability[int(score)] += 1\n",
    "for i in range(11):\n",
    "    probability[i] /= reviewed_games\n",
    "score_avg /= reviewed_games\n",
    "for game in games:\n",
    "    n = len(game[\"reviews\"])\n",
    "    if n > 0:\n",
    "        score = game[\"user_review\"]\n",
    "        score_std += (score - score_avg)**2\n",
    "score_std /= reviewed_games\n",
    "score_std = score_std**0.5\n",
    "\n",
    "print(f\"Total games: {len(games)}\")\n",
    "print(f\"Total reviewed games: {reviewed_games} ({reviewed_games/len(games)*100:.2f}%)\")\n",
    "print(f\"Total reviews: {reviews} ({reviews/len(games)} review per game, {reviews/reviewed_games} review per reviewed game)\")\n",
    "print(f\"Average score: {score_avg:.02f} +/- {score_std:.02f}\")\n",
    "print(f\"Score probability: {probability}\")"
   ]
  }
 ],
 "metadata": {
  "kernelspec": {
   "display_name": ".venv",
   "language": "python",
   "name": "python3"
  },
  "language_info": {
   "codemirror_mode": {
    "name": "ipython",
    "version": 3
   },
   "file_extension": ".py",
   "mimetype": "text/x-python",
   "name": "python",
   "nbconvert_exporter": "python",
   "pygments_lexer": "ipython3",
   "version": "3.12.0"
  }
 },
 "nbformat": 4,
 "nbformat_minor": 2
}
