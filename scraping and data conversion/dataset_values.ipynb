{
 "cells": [
  {
   "cell_type": "code",
   "execution_count": 18,
   "metadata": {},
   "outputs": [],
   "source": [
    "import pandas as pd\n",
    "import json"
   ]
  },
  {
   "cell_type": "code",
   "execution_count": 19,
   "metadata": {},
   "outputs": [],
   "source": [
    "df = pd.read_json(\"../games/combined_games.json\")"
   ]
  },
  {
   "cell_type": "code",
   "execution_count": 20,
   "metadata": {},
   "outputs": [
    {
     "name": "stdout",
     "output_type": "stream",
     "text": [
      "Name\n",
      "Released\n",
      "Publishers\n",
      "Developers\n",
      "Genre\n",
      "Perspective\n",
      "Gameplay\n",
      "Setting\n",
      "Media Type\n",
      "Multiplayer Options\n",
      "Number of Offline Players\n",
      "Description\n",
      "img\n",
      "user_review\n",
      "reviews\n",
      "Input Devices Supported\n",
      "Critics\n",
      "Narrative\n",
      "Misc\n",
      "Number of Online Players\n",
      "Releases by Date (by platform)\n",
      "Number of Players Supported\n",
      "Visual\n",
      "Official Site\n",
      "Art\n",
      "Pacing\n",
      "Interface\n",
      "Vehicular\n",
      "Special Edition\n",
      "Sport\n",
      "Educational\n",
      "Add-on\n"
     ]
    }
   ],
   "source": [
    "columns = df.columns\n",
    "for column in columns:\n",
    "    if not column.endswith(\"Rating\"):\n",
    "        print(column)"
   ]
  },
  {
   "cell_type": "code",
   "execution_count": null,
   "metadata": {},
   "outputs": [],
   "source": [
    "[\n",
    "\"Name\",\n",
    "\"Released\",\n",
    "\"Publishers\",\n",
    "\"Developers\",\n",
    "\"Genre\",\n",
    "\"Perspective\",\n",
    "\"Gameplay\",\n",
    "\"Setting\",\n",
    "\"Media Type\",\n",
    "\"Multiplayer Options\",\n",
    "\"Number of Offline Players\",\n",
    "\"Description\",\n",
    "\"img\",\n",
    "\"user_review\",\n",
    "\"reviews\",\n",
    "\"Input Devices Supported\",\n",
    "\"Critics\",\n",
    "\"Narrative\",\n",
    "\"Misc\",\n",
    "\"Number of Online Players\",\n",
    "\"Releases by Date (by platform)\",\n",
    "\"Number of Players Supported\",\n",
    "\"Visual\",\n",
    "\"Official Site\",\n",
    "\"Art\",\n",
    "\"Pacing\",\n",
    "\"Interface\",\n",
    "\"Vehicular\",\n",
    "\"Special Edition\",\n",
    "\"Sport\",\n",
    "\"Educational\",\n",
    "\"Add-on\",\n",
    "]"
   ]
  }
 ],
 "metadata": {
  "kernelspec": {
   "display_name": ".venv",
   "language": "python",
   "name": "python3"
  },
  "language_info": {
   "codemirror_mode": {
    "name": "ipython",
    "version": 3
   },
   "file_extension": ".py",
   "mimetype": "text/x-python",
   "name": "python",
   "nbconvert_exporter": "python",
   "pygments_lexer": "ipython3",
   "version": "3.12.0"
  }
 },
 "nbformat": 4,
 "nbformat_minor": 2
}
